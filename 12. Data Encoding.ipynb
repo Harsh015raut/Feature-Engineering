{
 "cells": [
  {
   "cell_type": "markdown",
   "metadata": {},
   "source": [
    "## Data Encoding\n",
    "\n",
    "* If you have a categorical feature,then we need to convert it into numerical values so that we can train our ML models.\n",
    "\n",
    "* Types of Data Encoding:\n",
    "1. Nominal or OHE(One Hot ENcoding)\n",
    "2. Ordinal and Label Encoding \n",
    "3. Target guided Ordinal Encoding"
   ]
  },
  {
   "cell_type": "markdown",
   "metadata": {},
   "source": []
  }
 ],
 "metadata": {
  "language_info": {
   "name": "python"
  }
 },
 "nbformat": 4,
 "nbformat_minor": 2
}
