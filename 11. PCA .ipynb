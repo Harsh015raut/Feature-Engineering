{
 "cells": [
  {
   "cell_type": "markdown",
   "metadata": {},
   "source": [
    "### PCA (Principal Component Ananlysis)\n",
    "* Principal Component Analysis (PCA) is a dimensionality reduction technique commonly used in machine learning and data analysis. It works by transforming the original features of a dataset into a new set of uncorrelated features called principal components.\n"
   ]
  }
 ],
 "metadata": {
  "kernelspec": {
   "display_name": "Python 3",
   "language": "python",
   "name": "python3"
  },
  "language_info": {
   "name": "python",
   "version": "3.11.4"
  }
 },
 "nbformat": 4,
 "nbformat_minor": 2
}
