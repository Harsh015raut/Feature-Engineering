{
 "cells": [
  {
   "cell_type": "markdown",
   "metadata": {},
   "source": [
    "## 1.Feature Extraction \n",
    "Feature Extraction is process of selecting and extracting the msot important featrues from raw data.\n",
    "* It is used for taking out important features."
   ]
  },
  {
   "cell_type": "markdown",
   "metadata": {},
   "source": [
    "## 2.Feature Scaling\n",
    "*  Main purpose is to scale down data,scaling down data makes distanc between datapoints less which leads to faster computation.Model trains faster and performance is also increased.\n"
   ]
  },
  {
   "cell_type": "markdown",
   "metadata": {},
   "source": [
    "## 3.Feature Selection\n",
    "* We just pick the most important fetaures.\n",
    "* Methods - Filter Method,embedded method."
   ]
  },
  {
   "cell_type": "markdown",
   "metadata": {},
   "source": []
  }
 ],
 "metadata": {
  "kernelspec": {
   "display_name": "Python 3",
   "language": "python",
   "name": "python3"
  },
  "language_info": {
   "name": "python",
   "version": "3.11.4"
  }
 },
 "nbformat": 4,
 "nbformat_minor": 2
}
